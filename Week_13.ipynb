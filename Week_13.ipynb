{
  "nbformat": 4,
  "nbformat_minor": 0,
  "metadata": {
    "colab": {
      "provenance": [],
      "authorship_tag": "ABX9TyOEZHirQetpYXOMr3iJAlQK",
      "include_colab_link": true
    },
    "kernelspec": {
      "name": "python3",
      "display_name": "Python 3"
    },
    "language_info": {
      "name": "python"
    }
  },
  "cells": [
    {
      "cell_type": "markdown",
      "metadata": {
        "id": "view-in-github",
        "colab_type": "text"
      },
      "source": [
        "<a href=\"https://colab.research.google.com/github/luluatina/praktikum-algoritma-week-13/blob/main/Week_13.ipynb\" target=\"_parent\"><img src=\"https://colab.research.google.com/assets/colab-badge.svg\" alt=\"Open In Colab\"/></a>"
      ]
    },
    {
      "cell_type": "markdown",
      "source": [
        "Exercise 1"
      ],
      "metadata": {
        "id": "tgwE5IgZzkw0"
      }
    },
    {
      "cell_type": "code",
      "execution_count": 1,
      "metadata": {
        "colab": {
          "base_uri": "https://localhost:8080/"
        },
        "id": "sfbspCLwv1TA",
        "outputId": "cb3e3b73-3572-4d7c-897f-72ca959f2a7e"
      },
      "outputs": [
        {
          "output_type": "stream",
          "name": "stdout",
          "text": [
            "Nama: Bolpoint\n",
            "Stok: 10\n",
            "Harga Satuan: 2000\n",
            "Harga Total: 20000\n",
            "Nama: Pensil\n",
            "Stok: 10\n",
            "Harga Satuan: 1000\n",
            "Harga Total: 10000\n",
            "Nama: Penghapus\n",
            "Stok: 10\n",
            "Harga Satuan: 500\n",
            "Harga Total: 5000\n",
            "Total Harga: 35000\n"
          ]
        }
      ],
      "source": [
        "# Program Python Classes and Objects dalam Penjualan Alat Tulis\n",
        "\n",
        "class AlatTulis:\n",
        "    def __init__(self, nama, harga, stok):\n",
        "        self.nama = nama\n",
        "        self.stok = stok\n",
        "        self.harga_satuan = harga\n",
        "        self.harga_total = harga * stok\n",
        "\n",
        "    def tampilkan_info(self):\n",
        "        print(f\"Nama: {self.nama}\")\n",
        "        print(f\"Stok: {self.stok}\")\n",
        "        print(f\"Harga Satuan: {self.harga_satuan}\")\n",
        "        print(f\"Harga Total: {self.harga_total}\")\n",
        "\n",
        "    def get_nama(self):\n",
        "        return self.nama\n",
        "\n",
        "    def get_stok(self):\n",
        "        return self.stok\n",
        "\n",
        "    def get_harga_satuan(self):\n",
        "        return self.harga_satuan\n",
        "\n",
        "    def get_harga_total(self):\n",
        "        return self.harga_total\n",
        "\n",
        "bolpoint = AlatTulis(\"Bolpoint\", 2000, 10)\n",
        "pensil = AlatTulis(\"Pensil\", 1000, 10)\n",
        "penghapus = AlatTulis(\"Penghapus\", 500, 10)\n",
        "\n",
        "bolpoint.tampilkan_info()\n",
        "pensil.tampilkan_info()\n",
        "penghapus.tampilkan_info()\n",
        "\n",
        "total_harga = bolpoint.get_harga_total() + pensil.get_harga_total() + penghapus.get_harga_total()\n",
        "print(f\"Total Harga: {total_harga}\")\n"
      ]
    }
  ]
}